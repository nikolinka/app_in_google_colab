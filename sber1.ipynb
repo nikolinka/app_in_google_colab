{
  "nbformat": 4,
  "nbformat_minor": 0,
  "metadata": {
    "colab": {
      "provenance": [],
      "mount_file_id": "1O9Gnoa81Hz4-D15QqZU9wSMSDxObWjX3",
      "authorship_tag": "ABX9TyPaPuvNp9+fkIJCB4nkhsbO",
      "include_colab_link": true
    },
    "kernelspec": {
      "name": "python3",
      "display_name": "Python 3"
    },
    "language_info": {
      "name": "python"
    }
  },
  "cells": [
    {
      "cell_type": "markdown",
      "metadata": {
        "id": "view-in-github",
        "colab_type": "text"
      },
      "source": [
        "<a href=\"https://colab.research.google.com/github/nikolinka/app_in_google_colab/blob/main/sber1.ipynb\" target=\"_parent\"><img src=\"https://colab.research.google.com/assets/colab-badge.svg\" alt=\"Open In Colab\"/></a>"
      ]
    },
    {
      "cell_type": "code",
      "execution_count": null,
      "metadata": {
        "colab": {
          "base_uri": "https://localhost:8080/",
          "height": 219
        },
        "id": "GFLYi4fUvK8x",
        "outputId": "299b5bad-f8a0-4b4c-b5e9-f762a4ae6cb1",
        "collapsed": true
      },
      "outputs": [
        {
          "output_type": "stream",
          "name": "stdout",
          "text": [
            "Drive already mounted at /content/drive; to attempt to forcibly remount, call drive.mount(\"/content/drive\", force_remount=True).\n"
          ]
        },
        {
          "output_type": "error",
          "ename": "OperationalError",
          "evalue": "table ticket already exists",
          "traceback": [
            "\u001b[0;31m---------------------------------------------------------------------------\u001b[0m",
            "\u001b[0;31mOperationalError\u001b[0m                          Traceback (most recent call last)",
            "\u001b[0;32m<ipython-input-181-8e09fad715a6>\u001b[0m in \u001b[0;36m<cell line: 0>\u001b[0;34m()\u001b[0m\n\u001b[1;32m     13\u001b[0m \u001b[0mcursor\u001b[0m\u001b[0;34m.\u001b[0m\u001b[0mexecute\u001b[0m\u001b[0;34m(\u001b[0m\u001b[0;34m\"CREATE TABLE passenger (id INTEGER PRIMARY KEY AUTOINCREMENT, name text, surname varchar, weight_luggage float)\"\u001b[0m\u001b[0;34m)\u001b[0m\u001b[0;34m\u001b[0m\u001b[0;34m\u001b[0m\u001b[0m\n\u001b[1;32m     14\u001b[0m \u001b[0mconn\u001b[0m\u001b[0;34m.\u001b[0m\u001b[0mcommit\u001b[0m\u001b[0;34m(\u001b[0m\u001b[0;34m)\u001b[0m\u001b[0;34m\u001b[0m\u001b[0;34m\u001b[0m\u001b[0m\n\u001b[0;32m---> 15\u001b[0;31m \u001b[0mcursor\u001b[0m\u001b[0;34m.\u001b[0m\u001b[0mexecute\u001b[0m\u001b[0;34m(\u001b[0m\u001b[0;34m\"CREATE TABLE ticket (id INTEGER PRIMARY KEY AUTOINCREMENT, gate varchar, row text, place text, date date)\"\u001b[0m\u001b[0;34m)\u001b[0m\u001b[0;34m\u001b[0m\u001b[0;34m\u001b[0m\u001b[0m\n\u001b[0m\u001b[1;32m     16\u001b[0m \u001b[0mconn\u001b[0m\u001b[0;34m.\u001b[0m\u001b[0mcommit\u001b[0m\u001b[0;34m(\u001b[0m\u001b[0;34m)\u001b[0m\u001b[0;34m\u001b[0m\u001b[0;34m\u001b[0m\u001b[0m\n",
            "\u001b[0;31mOperationalError\u001b[0m: table ticket already exists"
          ]
        }
      ],
      "source": [
        "# 3.1 && 3.2\n",
        "from google.colab import drive\n",
        "import sqlite3\n",
        "\n",
        "drive.mount('/content/drive')\n",
        "path = \"\\content\\drive\\mydatabase.db\"\n",
        "conn = sqlite3.connect(path)\n",
        "\n",
        "cursor = conn.cursor()\n",
        "\n",
        "cursor.execute(\"CREATE TABLE trip (id INTEGER PRIMARY KEY AUTOINCREMENT, plane varchar, town_to text, town_from text)\")\n",
        "conn.commit()\n",
        "cursor.execute(\"CREATE TABLE passenger (id INTEGER PRIMARY KEY AUTOINCREMENT, name text, surname varchar, weight_luggage float)\")\n",
        "conn.commit()\n",
        "cursor.execute(\"CREATE TABLE ticket (id INTEGER PRIMARY KEY AUTOINCREMENT, gate varchar, row text, place text, date date)\")\n",
        "conn.commit()"
      ]
    },
    {
      "cell_type": "code",
      "source": [
        "# Запись данные успешна\n",
        "cursor.execute('Select * from trip')\n",
        "data_trip = cursor.fetchall()\n",
        "conn.commit()\n",
        "print(data_trip)\n",
        "\n",
        "cursor.execute('Select * from passenger')\n",
        "data_pas = cursor.fetchall()\n",
        "conn.commit()\n",
        "print(data_pas)\n",
        "\n",
        "cursor.execute('Select * from ticket')\n",
        "data_tic = cursor.fetchall()\n",
        "conn.commit()\n",
        "print(data_tic)"
      ],
      "metadata": {
        "colab": {
          "base_uri": "https://localhost:8080/"
        },
        "collapsed": true,
        "id": "bcynnWfIqWsU",
        "outputId": "9e6d5feb-0962-4b50-c7eb-72a98ade6a68"
      },
      "execution_count": null,
      "outputs": [
        {
          "output_type": "stream",
          "name": "stdout",
          "text": [
            "[]\n",
            "[]\n",
            "[]\n"
          ]
        }
      ]
    },
    {
      "cell_type": "code",
      "source": [
        "# 3.3\n",
        "import random\n",
        "import string\n",
        "from datetime import date, timedelta\n",
        "import numpy as np\n",
        "\n",
        "start_date = date(2000, 6, 3)\n",
        "final_date = date(2020, 7, 1)\n",
        "\n",
        "town_to = ['Mos', 'Ekb', 'SnP', 'Nsk', 'Klg' ]\n",
        "town_from = ['NYk', 'Ant', 'Oslo', 'Mrd', 'lol']\n",
        "\n",
        "def random_date(start_date, final_date):\n",
        "  delta = final_date - start_date\n",
        "  randays = random.randint(1, delta.days)\n",
        "  dates = start_date + timedelta(days = randays)\n",
        "  return dates\n",
        "\n",
        "def random_string(length):\n",
        "    return ''.join(\n",
        "        random.choices(\n",
        "            string.ascii_letters + string.digits,\n",
        "            k=length))\n",
        "\n",
        "def random_name(length):\n",
        "    return ''.join(\n",
        "        random.choices(\n",
        "            string.ascii_letters,\n",
        "            k=length))\n",
        "\n",
        "for i in range(11):\n",
        "  data_trip= [random_string(6), random.choice(town_to), random.choice(town_from)]\n",
        "  print(data_trip)\n",
        "  query = 'INSERT INTO trip (plane, town_to, town_from) VALUES (?, ?, ?)'\n",
        "  cursor.execute(query, data_trip)\n",
        "  data_pas= [random_name(6),random_name(6), round(0.2*random.randint(2, 23), 2)]\n",
        "  print(data_pas)\n",
        "  query = 'INSERT INTO passenger ( name, surname, weight_luggage) VALUES (?, ?, ?)'\n",
        "  cursor.execute(query, data_pas)\n",
        "  conn.commit()\n",
        "  data_tic= [random.randint(1, 20), random.randint(1, 30), random.choice(('A', 'B', 'C', 'D', 'E', 'F')), random_date(start_date, final_date)]\n",
        "  query = \"INSERT INTO ticket (gate, row, place, date) VALUES (?, ?, ?, ?)\"\n",
        "  cursor.execute(query, data_tic)\n",
        "  print(data_tic)\n",
        "  conn.commit()"
      ],
      "metadata": {
        "colab": {
          "base_uri": "https://localhost:8080/"
        },
        "cellView": "code",
        "id": "Mn38Sx62-rH3",
        "outputId": "2578c7db-3de6-43c6-f822-11943bf3d5a3"
      },
      "execution_count": null,
      "outputs": [
        {
          "output_type": "stream",
          "name": "stdout",
          "text": [
            "['O1fZEC', 'SnP', 'Ant']\n",
            "['mZGJIu', 'JQfsPw', 2.4]\n",
            "[15, 4, 'F', datetime.date(2006, 6, 1)]\n",
            "['7ZsTxx', 'SnP', 'NYk']\n",
            "['KjSuhm', 'MnsYEk', 2.4]\n",
            "[3, 6, 'A', datetime.date(2001, 5, 3)]\n",
            "['FbRlhO', 'Nsk', 'Oslo']\n",
            "['nBpPuF', 'pyKcwP', 2.6]\n",
            "[15, 19, 'F', datetime.date(2003, 1, 17)]\n",
            "['lhT78r', 'Nsk', 'lol']\n",
            "['lfFfra', 'KVeXJw', 3.4]\n",
            "[10, 18, 'D', datetime.date(2007, 10, 4)]\n",
            "['3tFQ5X', 'Ekb', 'lol']\n",
            "['EwsrFT', 'nIFcqG', 3.4]\n",
            "[1, 26, 'C', datetime.date(2016, 6, 14)]\n",
            "['mVaEWu', 'Ekb', 'NYk']\n",
            "['bQlZXL', 'nEaaOe', 3.0]\n",
            "[3, 12, 'A', datetime.date(2007, 5, 4)]\n",
            "['mP1Kdr', 'Mos', 'Mrd']\n",
            "['aQQKeq', 'xoQuIn', 1.8]\n",
            "[17, 26, 'E', datetime.date(2015, 8, 3)]\n",
            "['mpeDpK', 'Klg', 'lol']\n",
            "['PDitgp', 'JyaQSp', 4.4]\n",
            "[12, 13, 'F', datetime.date(2004, 6, 12)]\n",
            "['zIYc2h', 'Mos', 'Ant']\n",
            "['sfhvfT', 'kFtTRB', 2.6]\n",
            "[12, 24, 'D', datetime.date(2018, 4, 12)]\n",
            "['f7zYt1', 'SnP', 'Mrd']\n",
            "['yksqkk', 'IsFzBa', 2.2]\n",
            "[14, 18, 'D', datetime.date(2004, 11, 28)]\n",
            "['eWFdht', 'Klg', 'Ant']\n",
            "['dCdDQJ', 'KGtktk', 3.4]\n",
            "[9, 11, 'C', datetime.date(2005, 7, 9)]\n"
          ]
        }
      ]
    },
    {
      "cell_type": "code",
      "source": [
        "# Запись данные успешна\n",
        "cursor.execute('Select * from trip')\n",
        "data_trip = cursor.fetchall()\n",
        "conn.commit()\n",
        "print(data_trip)\n",
        "\n",
        "cursor.execute('Select * from passenger')\n",
        "data_pas = cursor.fetchall()\n",
        "conn.commit()\n",
        "print(data_pas)\n",
        "\n",
        "cursor.execute('Select * from ticket')\n",
        "data_tic = cursor.fetchall()\n",
        "conn.commit()\n",
        "print(data_tic)"
      ],
      "metadata": {
        "colab": {
          "base_uri": "https://localhost:8080/"
        },
        "id": "gAgO_80HY0Xm",
        "outputId": "803859f7-088d-45eb-c989-da763d27a315"
      },
      "execution_count": null,
      "outputs": [
        {
          "output_type": "stream",
          "name": "stdout",
          "text": [
            "[(1, 'O1fZEC', 'SnP', 'Ant'), (2, '7ZsTxx', 'SnP', 'NYk'), (3, 'FbRlhO', 'Nsk', 'Oslo'), (4, 'lhT78r', 'Nsk', 'lol'), (5, '3tFQ5X', 'Ekb', 'lol'), (6, 'mVaEWu', 'Ekb', 'NYk'), (7, 'mP1Kdr', 'Mos', 'Mrd'), (8, 'mpeDpK', 'Klg', 'lol'), (9, 'zIYc2h', 'Mos', 'Ant'), (10, 'f7zYt1', 'SnP', 'Mrd'), (11, 'eWFdht', 'Klg', 'Ant')]\n",
            "[(1, 'mZGJIu', 'JQfsPw', 2.4), (2, 'KjSuhm', 'MnsYEk', 2.4), (3, 'nBpPuF', 'pyKcwP', 2.6), (4, 'lfFfra', 'KVeXJw', 3.4), (5, 'EwsrFT', 'nIFcqG', 3.4), (6, 'bQlZXL', 'nEaaOe', 3.0), (7, 'aQQKeq', 'xoQuIn', 1.8), (8, 'PDitgp', 'JyaQSp', 4.4), (9, 'sfhvfT', 'kFtTRB', 2.6), (10, 'yksqkk', 'IsFzBa', 2.2), (11, 'dCdDQJ', 'KGtktk', 3.4)]\n",
            "[(1, '15', '4', 'F', '2006-06-01'), (2, '3', '6', 'A', '2001-05-03'), (3, '15', '19', 'F', '2003-01-17'), (4, '10', '18', 'D', '2007-10-04'), (5, '1', '26', 'C', '2016-06-14'), (6, '3', '12', 'A', '2007-05-04'), (7, '17', '26', 'E', '2015-08-03'), (8, '12', '13', 'F', '2004-06-12'), (9, '12', '24', 'D', '2018-04-12'), (10, '14', '18', 'D', '2004-11-28'), (11, '9', '11', 'C', '2005-07-09')]\n"
          ]
        }
      ]
    },
    {
      "cell_type": "code",
      "source": [
        "# Для реализации оконного приложения сразу в Google Colab\n",
        "!pip install ipywidgets"
      ],
      "metadata": {
        "id": "GpjcPBFpk8Ht",
        "colab": {
          "base_uri": "https://localhost:8080/"
        },
        "collapsed": true,
        "outputId": "9a103be4-055b-44fe-979d-aa85c2e7ed9b"
      },
      "execution_count": null,
      "outputs": [
        {
          "output_type": "stream",
          "name": "stdout",
          "text": [
            "Requirement already satisfied: ipywidgets in /usr/local/lib/python3.11/dist-packages (7.7.1)\n",
            "Requirement already satisfied: ipykernel>=4.5.1 in /usr/local/lib/python3.11/dist-packages (from ipywidgets) (6.17.1)\n",
            "Requirement already satisfied: ipython-genutils~=0.2.0 in /usr/local/lib/python3.11/dist-packages (from ipywidgets) (0.2.0)\n",
            "Requirement already satisfied: traitlets>=4.3.1 in /usr/local/lib/python3.11/dist-packages (from ipywidgets) (5.7.1)\n",
            "Requirement already satisfied: widgetsnbextension~=3.6.0 in /usr/local/lib/python3.11/dist-packages (from ipywidgets) (3.6.10)\n",
            "Requirement already satisfied: ipython>=4.0.0 in /usr/local/lib/python3.11/dist-packages (from ipywidgets) (7.34.0)\n",
            "Requirement already satisfied: jupyterlab-widgets>=1.0.0 in /usr/local/lib/python3.11/dist-packages (from ipywidgets) (3.0.14)\n",
            "Requirement already satisfied: debugpy>=1.0 in /usr/local/lib/python3.11/dist-packages (from ipykernel>=4.5.1->ipywidgets) (1.8.0)\n",
            "Requirement already satisfied: jupyter-client>=6.1.12 in /usr/local/lib/python3.11/dist-packages (from ipykernel>=4.5.1->ipywidgets) (6.1.12)\n",
            "Requirement already satisfied: matplotlib-inline>=0.1 in /usr/local/lib/python3.11/dist-packages (from ipykernel>=4.5.1->ipywidgets) (0.1.7)\n",
            "Requirement already satisfied: nest-asyncio in /usr/local/lib/python3.11/dist-packages (from ipykernel>=4.5.1->ipywidgets) (1.6.0)\n",
            "Requirement already satisfied: packaging in /usr/local/lib/python3.11/dist-packages (from ipykernel>=4.5.1->ipywidgets) (24.2)\n",
            "Requirement already satisfied: psutil in /usr/local/lib/python3.11/dist-packages (from ipykernel>=4.5.1->ipywidgets) (5.9.5)\n",
            "Requirement already satisfied: pyzmq>=17 in /usr/local/lib/python3.11/dist-packages (from ipykernel>=4.5.1->ipywidgets) (24.0.1)\n",
            "Requirement already satisfied: tornado>=6.1 in /usr/local/lib/python3.11/dist-packages (from ipykernel>=4.5.1->ipywidgets) (6.4.2)\n",
            "Requirement already satisfied: setuptools>=18.5 in /usr/local/lib/python3.11/dist-packages (from ipython>=4.0.0->ipywidgets) (75.2.0)\n",
            "Collecting jedi>=0.16 (from ipython>=4.0.0->ipywidgets)\n",
            "  Downloading jedi-0.19.2-py2.py3-none-any.whl.metadata (22 kB)\n",
            "Requirement already satisfied: decorator in /usr/local/lib/python3.11/dist-packages (from ipython>=4.0.0->ipywidgets) (4.4.2)\n",
            "Requirement already satisfied: pickleshare in /usr/local/lib/python3.11/dist-packages (from ipython>=4.0.0->ipywidgets) (0.7.5)\n",
            "Requirement already satisfied: prompt-toolkit!=3.0.0,!=3.0.1,<3.1.0,>=2.0.0 in /usr/local/lib/python3.11/dist-packages (from ipython>=4.0.0->ipywidgets) (3.0.51)\n",
            "Requirement already satisfied: pygments in /usr/local/lib/python3.11/dist-packages (from ipython>=4.0.0->ipywidgets) (2.18.0)\n",
            "Requirement already satisfied: backcall in /usr/local/lib/python3.11/dist-packages (from ipython>=4.0.0->ipywidgets) (0.2.0)\n",
            "Requirement already satisfied: pexpect>4.3 in /usr/local/lib/python3.11/dist-packages (from ipython>=4.0.0->ipywidgets) (4.9.0)\n",
            "Requirement already satisfied: notebook>=4.4.1 in /usr/local/lib/python3.11/dist-packages (from widgetsnbextension~=3.6.0->ipywidgets) (6.5.7)\n",
            "Requirement already satisfied: parso<0.9.0,>=0.8.4 in /usr/local/lib/python3.11/dist-packages (from jedi>=0.16->ipython>=4.0.0->ipywidgets) (0.8.4)\n",
            "Requirement already satisfied: jupyter-core>=4.6.0 in /usr/local/lib/python3.11/dist-packages (from jupyter-client>=6.1.12->ipykernel>=4.5.1->ipywidgets) (5.7.2)\n",
            "Requirement already satisfied: python-dateutil>=2.1 in /usr/local/lib/python3.11/dist-packages (from jupyter-client>=6.1.12->ipykernel>=4.5.1->ipywidgets) (2.8.2)\n",
            "Requirement already satisfied: jinja2 in /usr/local/lib/python3.11/dist-packages (from notebook>=4.4.1->widgetsnbextension~=3.6.0->ipywidgets) (3.1.6)\n",
            "Requirement already satisfied: argon2-cffi in /usr/local/lib/python3.11/dist-packages (from notebook>=4.4.1->widgetsnbextension~=3.6.0->ipywidgets) (23.1.0)\n",
            "Requirement already satisfied: nbformat in /usr/local/lib/python3.11/dist-packages (from notebook>=4.4.1->widgetsnbextension~=3.6.0->ipywidgets) (5.10.4)\n",
            "Requirement already satisfied: nbconvert>=5 in /usr/local/lib/python3.11/dist-packages (from notebook>=4.4.1->widgetsnbextension~=3.6.0->ipywidgets) (7.16.6)\n",
            "Requirement already satisfied: Send2Trash>=1.8.0 in /usr/local/lib/python3.11/dist-packages (from notebook>=4.4.1->widgetsnbextension~=3.6.0->ipywidgets) (1.8.3)\n",
            "Requirement already satisfied: terminado>=0.8.3 in /usr/local/lib/python3.11/dist-packages (from notebook>=4.4.1->widgetsnbextension~=3.6.0->ipywidgets) (0.18.1)\n",
            "Requirement already satisfied: prometheus-client in /usr/local/lib/python3.11/dist-packages (from notebook>=4.4.1->widgetsnbextension~=3.6.0->ipywidgets) (0.21.1)\n",
            "Requirement already satisfied: nbclassic>=0.4.7 in /usr/local/lib/python3.11/dist-packages (from notebook>=4.4.1->widgetsnbextension~=3.6.0->ipywidgets) (1.2.0)\n",
            "Requirement already satisfied: ptyprocess>=0.5 in /usr/local/lib/python3.11/dist-packages (from pexpect>4.3->ipython>=4.0.0->ipywidgets) (0.7.0)\n",
            "Requirement already satisfied: wcwidth in /usr/local/lib/python3.11/dist-packages (from prompt-toolkit!=3.0.0,!=3.0.1,<3.1.0,>=2.0.0->ipython>=4.0.0->ipywidgets) (0.2.13)\n",
            "Requirement already satisfied: platformdirs>=2.5 in /usr/local/lib/python3.11/dist-packages (from jupyter-core>=4.6.0->jupyter-client>=6.1.12->ipykernel>=4.5.1->ipywidgets) (4.3.7)\n",
            "Requirement already satisfied: notebook-shim>=0.2.3 in /usr/local/lib/python3.11/dist-packages (from nbclassic>=0.4.7->notebook>=4.4.1->widgetsnbextension~=3.6.0->ipywidgets) (0.2.4)\n",
            "Requirement already satisfied: beautifulsoup4 in /usr/local/lib/python3.11/dist-packages (from nbconvert>=5->notebook>=4.4.1->widgetsnbextension~=3.6.0->ipywidgets) (4.13.4)\n",
            "Requirement already satisfied: bleach!=5.0.0 in /usr/local/lib/python3.11/dist-packages (from bleach[css]!=5.0.0->nbconvert>=5->notebook>=4.4.1->widgetsnbextension~=3.6.0->ipywidgets) (6.2.0)\n",
            "Requirement already satisfied: defusedxml in /usr/local/lib/python3.11/dist-packages (from nbconvert>=5->notebook>=4.4.1->widgetsnbextension~=3.6.0->ipywidgets) (0.7.1)\n",
            "Requirement already satisfied: jupyterlab-pygments in /usr/local/lib/python3.11/dist-packages (from nbconvert>=5->notebook>=4.4.1->widgetsnbextension~=3.6.0->ipywidgets) (0.3.0)\n",
            "Requirement already satisfied: markupsafe>=2.0 in /usr/local/lib/python3.11/dist-packages (from nbconvert>=5->notebook>=4.4.1->widgetsnbextension~=3.6.0->ipywidgets) (3.0.2)\n",
            "Requirement already satisfied: mistune<4,>=2.0.3 in /usr/local/lib/python3.11/dist-packages (from nbconvert>=5->notebook>=4.4.1->widgetsnbextension~=3.6.0->ipywidgets) (3.1.3)\n",
            "Requirement already satisfied: nbclient>=0.5.0 in /usr/local/lib/python3.11/dist-packages (from nbconvert>=5->notebook>=4.4.1->widgetsnbextension~=3.6.0->ipywidgets) (0.10.2)\n",
            "Requirement already satisfied: pandocfilters>=1.4.1 in /usr/local/lib/python3.11/dist-packages (from nbconvert>=5->notebook>=4.4.1->widgetsnbextension~=3.6.0->ipywidgets) (1.5.1)\n",
            "Requirement already satisfied: fastjsonschema>=2.15 in /usr/local/lib/python3.11/dist-packages (from nbformat->notebook>=4.4.1->widgetsnbextension~=3.6.0->ipywidgets) (2.21.1)\n",
            "Requirement already satisfied: jsonschema>=2.6 in /usr/local/lib/python3.11/dist-packages (from nbformat->notebook>=4.4.1->widgetsnbextension~=3.6.0->ipywidgets) (4.23.0)\n",
            "Requirement already satisfied: six>=1.5 in /usr/local/lib/python3.11/dist-packages (from python-dateutil>=2.1->jupyter-client>=6.1.12->ipykernel>=4.5.1->ipywidgets) (1.17.0)\n",
            "Requirement already satisfied: argon2-cffi-bindings in /usr/local/lib/python3.11/dist-packages (from argon2-cffi->notebook>=4.4.1->widgetsnbextension~=3.6.0->ipywidgets) (21.2.0)\n",
            "Requirement already satisfied: webencodings in /usr/local/lib/python3.11/dist-packages (from bleach!=5.0.0->bleach[css]!=5.0.0->nbconvert>=5->notebook>=4.4.1->widgetsnbextension~=3.6.0->ipywidgets) (0.5.1)\n",
            "Requirement already satisfied: tinycss2<1.5,>=1.1.0 in /usr/local/lib/python3.11/dist-packages (from bleach[css]!=5.0.0->nbconvert>=5->notebook>=4.4.1->widgetsnbextension~=3.6.0->ipywidgets) (1.4.0)\n",
            "Requirement already satisfied: attrs>=22.2.0 in /usr/local/lib/python3.11/dist-packages (from jsonschema>=2.6->nbformat->notebook>=4.4.1->widgetsnbextension~=3.6.0->ipywidgets) (25.3.0)\n",
            "Requirement already satisfied: jsonschema-specifications>=2023.03.6 in /usr/local/lib/python3.11/dist-packages (from jsonschema>=2.6->nbformat->notebook>=4.4.1->widgetsnbextension~=3.6.0->ipywidgets) (2024.10.1)\n",
            "Requirement already satisfied: referencing>=0.28.4 in /usr/local/lib/python3.11/dist-packages (from jsonschema>=2.6->nbformat->notebook>=4.4.1->widgetsnbextension~=3.6.0->ipywidgets) (0.36.2)\n",
            "Requirement already satisfied: rpds-py>=0.7.1 in /usr/local/lib/python3.11/dist-packages (from jsonschema>=2.6->nbformat->notebook>=4.4.1->widgetsnbextension~=3.6.0->ipywidgets) (0.24.0)\n",
            "Requirement already satisfied: jupyter-server<3,>=1.8 in /usr/local/lib/python3.11/dist-packages (from notebook-shim>=0.2.3->nbclassic>=0.4.7->notebook>=4.4.1->widgetsnbextension~=3.6.0->ipywidgets) (1.16.0)\n",
            "Requirement already satisfied: cffi>=1.0.1 in /usr/local/lib/python3.11/dist-packages (from argon2-cffi-bindings->argon2-cffi->notebook>=4.4.1->widgetsnbextension~=3.6.0->ipywidgets) (1.17.1)\n",
            "Requirement already satisfied: soupsieve>1.2 in /usr/local/lib/python3.11/dist-packages (from beautifulsoup4->nbconvert>=5->notebook>=4.4.1->widgetsnbextension~=3.6.0->ipywidgets) (2.6)\n",
            "Requirement already satisfied: typing-extensions>=4.0.0 in /usr/local/lib/python3.11/dist-packages (from beautifulsoup4->nbconvert>=5->notebook>=4.4.1->widgetsnbextension~=3.6.0->ipywidgets) (4.13.2)\n",
            "Requirement already satisfied: pycparser in /usr/local/lib/python3.11/dist-packages (from cffi>=1.0.1->argon2-cffi-bindings->argon2-cffi->notebook>=4.4.1->widgetsnbextension~=3.6.0->ipywidgets) (2.22)\n",
            "Requirement already satisfied: anyio>=3.1.0 in /usr/local/lib/python3.11/dist-packages (from jupyter-server<3,>=1.8->notebook-shim>=0.2.3->nbclassic>=0.4.7->notebook>=4.4.1->widgetsnbextension~=3.6.0->ipywidgets) (4.9.0)\n",
            "Requirement already satisfied: websocket-client in /usr/local/lib/python3.11/dist-packages (from jupyter-server<3,>=1.8->notebook-shim>=0.2.3->nbclassic>=0.4.7->notebook>=4.4.1->widgetsnbextension~=3.6.0->ipywidgets) (1.8.0)\n",
            "Requirement already satisfied: idna>=2.8 in /usr/local/lib/python3.11/dist-packages (from anyio>=3.1.0->jupyter-server<3,>=1.8->notebook-shim>=0.2.3->nbclassic>=0.4.7->notebook>=4.4.1->widgetsnbextension~=3.6.0->ipywidgets) (3.10)\n",
            "Requirement already satisfied: sniffio>=1.1 in /usr/local/lib/python3.11/dist-packages (from anyio>=3.1.0->jupyter-server<3,>=1.8->notebook-shim>=0.2.3->nbclassic>=0.4.7->notebook>=4.4.1->widgetsnbextension~=3.6.0->ipywidgets) (1.3.1)\n",
            "Downloading jedi-0.19.2-py2.py3-none-any.whl (1.6 MB)\n",
            "\u001b[2K   \u001b[90m━━━━━━━━━━━━━━━━━━━━━━━━━━━━━━━━━━━━━━━━\u001b[0m \u001b[32m1.6/1.6 MB\u001b[0m \u001b[31m26.3 MB/s\u001b[0m eta \u001b[36m0:00:00\u001b[0m\n",
            "\u001b[?25hInstalling collected packages: jedi\n",
            "Successfully installed jedi-0.19.2\n"
          ]
        }
      ]
    },
    {
      "cell_type": "code",
      "source": [
        "# 3.4 - DF (data Frame)\n",
        "import pandas as pd\n",
        "\n",
        "cursor.execute(\"SELECT plane, town_to, town_from FROM trip\")\n",
        "columns = [column[0] for column in cursor.description]\n",
        "rows = cursor.fetchall()\n",
        "data_trip =  {column: [row[i] for row in rows] for i, column in enumerate(columns)}\n",
        "data_trip =  pd.DataFrame(data_trip)\n",
        "\n",
        "cursor.execute(\"SELECT name, surname, weight_luggage FROM passenger\")\n",
        "columns = [column[0] for column in cursor.description]\n",
        "rows = cursor.fetchall()\n",
        "data_pas = {column: [row[i] for row in rows] for i, column in enumerate(columns)}\n",
        "data_pas =  pd.DataFrame(data_pas)\n",
        "\n",
        "cursor.execute(\"SELECT gate, row, place, date FROM ticket\")\n",
        "columns = [column[0] for column in cursor.description]\n",
        "rows = cursor.fetchall()\n",
        "data_tic = {column: [row[i] for row in rows] for i, column in enumerate(columns)}\n",
        "data_tic =  pd.DataFrame(data_tic)\n",
        "\n",
        "Data = data_trip.join([data_pas, data_tic])\n",
        "print(Data)"
      ],
      "metadata": {
        "colab": {
          "base_uri": "https://localhost:8080/"
        },
        "id": "J1C5YY6bzAJq",
        "outputId": "2757a78a-b6fb-433c-b795-5da080addb38"
      },
      "execution_count": null,
      "outputs": [
        {
          "output_type": "stream",
          "name": "stdout",
          "text": [
            "     plane town_to town_from    name surname  weight_luggage gate row place  \\\n",
            "0   O1fZEC     SnP       Ant  mZGJIu  JQfsPw             2.4   15   4     F   \n",
            "1   7ZsTxx     SnP       NYk  KjSuhm  MnsYEk             2.4    3   6     A   \n",
            "2   FbRlhO     Nsk      Oslo  nBpPuF  pyKcwP             2.6   15  19     F   \n",
            "3   lhT78r     Nsk       lol  lfFfra  KVeXJw             3.4   10  18     D   \n",
            "4   3tFQ5X     Ekb       lol  EwsrFT  nIFcqG             3.4    1  26     C   \n",
            "5   mVaEWu     Ekb       NYk  bQlZXL  nEaaOe             3.0    3  12     A   \n",
            "6   mP1Kdr     Mos       Mrd  aQQKeq  xoQuIn             1.8   17  26     E   \n",
            "7   mpeDpK     Klg       lol  PDitgp  JyaQSp             4.4   12  13     F   \n",
            "8   zIYc2h     Mos       Ant  sfhvfT  kFtTRB             2.6   12  24     D   \n",
            "9   f7zYt1     SnP       Mrd  yksqkk  IsFzBa             2.2   14  18     D   \n",
            "10  eWFdht     Klg       Ant  dCdDQJ  KGtktk             3.4    9  11     C   \n",
            "\n",
            "          date  \n",
            "0   2006-06-01  \n",
            "1   2001-05-03  \n",
            "2   2003-01-17  \n",
            "3   2007-10-04  \n",
            "4   2016-06-14  \n",
            "5   2007-05-04  \n",
            "6   2015-08-03  \n",
            "7   2004-06-12  \n",
            "8   2018-04-12  \n",
            "9   2004-11-28  \n",
            "10  2005-07-09  \n"
          ]
        }
      ]
    },
    {
      "cell_type": "code",
      "source": [
        "# 3.4 - 3.6\n",
        "import ipywidgets as widgets\n",
        "from IPython.display import display\n",
        "\n",
        "def update_table():\n",
        "    with output:\n",
        "        output.clear_output()\n",
        "        select_col = [col for col, checkbox in checkboxes.items() if checkbox.value]\n",
        "        filtered_Data = Data[select_col]\n",
        "        display(filtered_Data)\n",
        "\n",
        "def on_checkbox_change(change):\n",
        "    update_table()\n",
        "\n",
        "def on_export_button_clicked(b):\n",
        "    selected_columns = [col for col, checkbox in checkboxes.items() if checkbox.value]\n",
        "    filtered_Data = Data[selected_columns]\n",
        "    file_name = \"filtered_data.xlsx\"\n",
        "    filtered_Data.to_excel(file_name, index=False)\n",
        "    print(f\"Данные успешно сохранены в файл: {file_name}\")\n",
        "\n",
        "checkboxes = {col: widgets.Checkbox(value=True, description=col) for col in Data.columns}\n",
        "button = widgets.Button(description=\"Экспорт\")\n",
        "button.on_click(on_export_button_clicked)\n",
        "\n",
        "for checkbox in checkboxes.values():\n",
        "    checkbox.observe(on_checkbox_change, names='value')\n",
        "\n",
        "output = widgets.Output()\n",
        "update_table()\n",
        "display(widgets.HBox([checkboxes[col] for col in checkboxes]))\n",
        "display(output)\n",
        "display(button)"
      ],
      "metadata": {
        "id": "GI3GAvfodD5y"
      },
      "execution_count": null,
      "outputs": []
    }
  ]
}